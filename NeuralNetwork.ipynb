{
 "cells": [
  {
   "cell_type": "code",
   "execution_count": 28,
   "id": "d19acb14-47fd-4c5b-9312-f3a76089797f",
   "metadata": {},
   "outputs": [],
   "source": [
    "import pandas as pd\n",
    "import numpy as np\n",
    "from PIL import Image\n",
    "from os import listdir\n",
    "from os.path import isfile, join\n",
    "import tensorflow as tf\n",
    "from tensorflow.keras import layers, models\n",
    "import matplotlib.pyplot as plt\n",
    "from sklearn.model_selection import train_test_split\n",
    "from sklearn.metrics import confusion_matrix\n",
    "from keras import Model\n",
    "from tensorflow.keras.layers import Input,Activation,Add, MaxPooling2D, Flatten, Dense"
   ]
  },
  {
   "cell_type": "code",
   "execution_count": 3,
   "id": "69d37c56-46d2-4f5b-89df-7efca31ad23a",
   "metadata": {},
   "outputs": [],
   "source": [
    "#Import image labels and paths to dataframe\n",
    "mypath = './Data/CroppedImages/'\n",
    "filenames = np.array([f for f in listdir(mypath) if isfile(join(mypath, f))])\n",
    "splitcolumns = [x.split('_')[0:3] + [mypath + x] for x in filenames if x.count('_') == 3]\n",
    "filecolumns = ['age','gender','race','file']\n",
    "filedf = pd.DataFrame(data = splitcolumns, columns = filecolumns)"
   ]
  },
  {
   "cell_type": "code",
   "execution_count": 4,
   "id": "96aeb851-e83e-4513-9e6d-c19a6f51ddd1",
   "metadata": {},
   "outputs": [
    {
     "name": "stdout",
     "output_type": "stream",
     "text": [
      "<class 'pandas.core.frame.DataFrame'>\n",
      "RangeIndex: 23705 entries, 0 to 23704\n",
      "Data columns (total 4 columns):\n",
      " #   Column  Non-Null Count  Dtype \n",
      "---  ------  --------------  ----- \n",
      " 0   age     23705 non-null  object\n",
      " 1   gender  23705 non-null  object\n",
      " 2   race    23705 non-null  object\n",
      " 3   file    23705 non-null  object\n",
      "dtypes: object(4)\n",
      "memory usage: 740.9+ KB\n"
     ]
    }
   ],
   "source": [
    "filedf.info()"
   ]
  },
  {
   "cell_type": "code",
   "execution_count": 5,
   "id": "98edb2b3-ba6b-4afd-9bc5-a089f4f53bc1",
   "metadata": {},
   "outputs": [],
   "source": [
    "filedf['agebracket'] = filedf['age'].astype(int).floordiv(20)"
   ]
  },
  {
   "cell_type": "code",
   "execution_count": 6,
   "id": "9d40ee42-38ab-445d-aad5-d5a5155ec180",
   "metadata": {},
   "outputs": [
    {
     "data": {
      "text/html": [
       "<div>\n",
       "<style scoped>\n",
       "    .dataframe tbody tr th:only-of-type {\n",
       "        vertical-align: middle;\n",
       "    }\n",
       "\n",
       "    .dataframe tbody tr th {\n",
       "        vertical-align: top;\n",
       "    }\n",
       "\n",
       "    .dataframe thead th {\n",
       "        text-align: right;\n",
       "    }\n",
       "</style>\n",
       "<table border=\"1\" class=\"dataframe\">\n",
       "  <thead>\n",
       "    <tr style=\"text-align: right;\">\n",
       "      <th></th>\n",
       "      <th>agebracket</th>\n",
       "    </tr>\n",
       "  </thead>\n",
       "  <tbody>\n",
       "    <tr>\n",
       "      <th>count</th>\n",
       "      <td>23705.000000</td>\n",
       "    </tr>\n",
       "    <tr>\n",
       "      <th>mean</th>\n",
       "      <td>1.254461</td>\n",
       "    </tr>\n",
       "    <tr>\n",
       "      <th>std</th>\n",
       "      <td>0.962140</td>\n",
       "    </tr>\n",
       "    <tr>\n",
       "      <th>min</th>\n",
       "      <td>0.000000</td>\n",
       "    </tr>\n",
       "    <tr>\n",
       "      <th>25%</th>\n",
       "      <td>1.000000</td>\n",
       "    </tr>\n",
       "    <tr>\n",
       "      <th>50%</th>\n",
       "      <td>1.000000</td>\n",
       "    </tr>\n",
       "    <tr>\n",
       "      <th>75%</th>\n",
       "      <td>2.000000</td>\n",
       "    </tr>\n",
       "    <tr>\n",
       "      <th>max</th>\n",
       "      <td>5.000000</td>\n",
       "    </tr>\n",
       "  </tbody>\n",
       "</table>\n",
       "</div>"
      ],
      "text/plain": [
       "         agebracket\n",
       "count  23705.000000\n",
       "mean       1.254461\n",
       "std        0.962140\n",
       "min        0.000000\n",
       "25%        1.000000\n",
       "50%        1.000000\n",
       "75%        2.000000\n",
       "max        5.000000"
      ]
     },
     "execution_count": 6,
     "metadata": {},
     "output_type": "execute_result"
    }
   ],
   "source": [
    "filedf.describe()"
   ]
  },
  {
   "cell_type": "code",
   "execution_count": 7,
   "id": "c68b39fc-5918-4070-a58d-ff3f289aa7c9",
   "metadata": {},
   "outputs": [
    {
     "data": {
      "text/html": [
       "<div>\n",
       "<style scoped>\n",
       "    .dataframe tbody tr th:only-of-type {\n",
       "        vertical-align: middle;\n",
       "    }\n",
       "\n",
       "    .dataframe tbody tr th {\n",
       "        vertical-align: top;\n",
       "    }\n",
       "\n",
       "    .dataframe thead th {\n",
       "        text-align: right;\n",
       "    }\n",
       "</style>\n",
       "<table border=\"1\" class=\"dataframe\">\n",
       "  <thead>\n",
       "    <tr style=\"text-align: right;\">\n",
       "      <th></th>\n",
       "      <th>age</th>\n",
       "      <th>gender</th>\n",
       "      <th>race</th>\n",
       "      <th>file</th>\n",
       "      <th>agebracket</th>\n",
       "    </tr>\n",
       "  </thead>\n",
       "  <tbody>\n",
       "    <tr>\n",
       "      <th>0</th>\n",
       "      <td>100</td>\n",
       "      <td>0</td>\n",
       "      <td>0</td>\n",
       "      <td>./Data/CroppedImages/100_0_0_20170112213500903...</td>\n",
       "      <td>5</td>\n",
       "    </tr>\n",
       "    <tr>\n",
       "      <th>1</th>\n",
       "      <td>100</td>\n",
       "      <td>0</td>\n",
       "      <td>0</td>\n",
       "      <td>./Data/CroppedImages/100_0_0_20170112215240346...</td>\n",
       "      <td>5</td>\n",
       "    </tr>\n",
       "    <tr>\n",
       "      <th>2</th>\n",
       "      <td>100</td>\n",
       "      <td>1</td>\n",
       "      <td>0</td>\n",
       "      <td>./Data/CroppedImages/100_1_0_20170110183726390...</td>\n",
       "      <td>5</td>\n",
       "    </tr>\n",
       "    <tr>\n",
       "      <th>3</th>\n",
       "      <td>100</td>\n",
       "      <td>1</td>\n",
       "      <td>0</td>\n",
       "      <td>./Data/CroppedImages/100_1_0_20170112213001988...</td>\n",
       "      <td>5</td>\n",
       "    </tr>\n",
       "    <tr>\n",
       "      <th>4</th>\n",
       "      <td>100</td>\n",
       "      <td>1</td>\n",
       "      <td>0</td>\n",
       "      <td>./Data/CroppedImages/100_1_0_20170112213303693...</td>\n",
       "      <td>5</td>\n",
       "    </tr>\n",
       "  </tbody>\n",
       "</table>\n",
       "</div>"
      ],
      "text/plain": [
       "   age gender race                                               file  \\\n",
       "0  100      0    0  ./Data/CroppedImages/100_0_0_20170112213500903...   \n",
       "1  100      0    0  ./Data/CroppedImages/100_0_0_20170112215240346...   \n",
       "2  100      1    0  ./Data/CroppedImages/100_1_0_20170110183726390...   \n",
       "3  100      1    0  ./Data/CroppedImages/100_1_0_20170112213001988...   \n",
       "4  100      1    0  ./Data/CroppedImages/100_1_0_20170112213303693...   \n",
       "\n",
       "   agebracket  \n",
       "0           5  \n",
       "1           5  \n",
       "2           5  \n",
       "3           5  \n",
       "4           5  "
      ]
     },
     "execution_count": 7,
     "metadata": {},
     "output_type": "execute_result"
    }
   ],
   "source": [
    "filedf.head()"
   ]
  },
  {
   "cell_type": "code",
   "execution_count": 8,
   "id": "522475a3-73c0-4acd-9c78-7ba3bf329d94",
   "metadata": {},
   "outputs": [],
   "source": [
    "images = []\n",
    "labels = []"
   ]
  },
  {
   "cell_type": "code",
   "execution_count": 9,
   "id": "48397024-9b11-42c3-8816-2cd5bac90a49",
   "metadata": {},
   "outputs": [],
   "source": [
    "for index, row in filedf.iterrows():\n",
    "    img = np.array(Image.open(row[3]))\n",
    "    flat_img = img\n",
    "    images.append(img)\n",
    "    labels.append([row[1],row[2],row[4]])"
   ]
  },
  {
   "cell_type": "code",
   "execution_count": 10,
   "id": "7ab4e094-3961-435f-bd4d-00d657dffd8a",
   "metadata": {},
   "outputs": [],
   "source": [
    "npimages = np.array(images)\n",
    "nplabels = np.array(labels).astype(int)"
   ]
  },
  {
   "cell_type": "code",
   "execution_count": 11,
   "id": "e8a6fe13-3401-47e5-821b-19405ae5f4c0",
   "metadata": {},
   "outputs": [],
   "source": [
    "X = npimages\n",
    "y = nplabels"
   ]
  },
  {
   "cell_type": "code",
   "execution_count": 248,
   "id": "9a75f190-a4d6-4af4-a6bb-a227be5ecd3a",
   "metadata": {},
   "outputs": [
    {
     "data": {
      "text/plain": [
       "(23705, 3, 1)"
      ]
     },
     "execution_count": 248,
     "metadata": {},
     "output_type": "execute_result"
    }
   ],
   "source": [
    "ymodel = np.array([[[x[0]],[x[1]],[x[2]]] for x in y])\n",
    "ymodel.shape"
   ]
  },
  {
   "cell_type": "code",
   "execution_count": 254,
   "id": "789dadd6-0dd4-4562-9727-173adf9ec696",
   "metadata": {},
   "outputs": [],
   "source": [
    "y_train2=[y_train[:,0],y_train[:,1],y_train[:,2]]\n",
    "y_test2=[y_test[:,0],y_test[:,1],y_test[:,2]]"
   ]
  },
  {
   "cell_type": "code",
   "execution_count": 257,
   "id": "aac0801d-fdbc-412d-b3fb-87e5765acec8",
   "metadata": {},
   "outputs": [
    {
     "name": "stdout",
     "output_type": "stream",
     "text": [
      "[0 1]\n",
      "[0 1 2 3 4]\n",
      "[0 1 2 3 4 5]\n"
     ]
    }
   ],
   "source": [
    "print(np.unique(y_train2[0]))\n",
    "print(np.unique(y_train2[1]))\n",
    "print(np.unique(y_train2[2]))"
   ]
  },
  {
   "cell_type": "code",
   "execution_count": 21,
   "id": "d5987a5d-e101-4dce-8338-200325658e24",
   "metadata": {},
   "outputs": [],
   "source": [
    "#Simplifies adding a layer\n",
    "def Convolution(input_tensor,filters):\n",
    "\n",
    "    x = layers.Conv2D(filters=filters,kernel_size=(3, 3),padding = 'same', activation = 'relu')(input_tensor)\n",
    "\n",
    "    return x\n",
    "\n",
    "#Simple CNN model\n",
    "#Conv stands for neural network layers of (x,y). x standing for the input layers and y standing for how many filter layers there are\n",
    "#maxp is a pooling layer that reduces the number of nodes of the next layer\n",
    "#flatten changes the previous layer to a 1 dimensional layer\n",
    "#dense layers have each node connected to every node in the previous layer. In this case, we have 3 dense layers of differing weights representing\n",
    "#age, gender, and race. While all previous layers have collected features, dense layers calculate based on these collected features.\n",
    "#They then send their calculations to the final dense layer to determine classification\n",
    "#Binary Crossentropy = Classifies based on a binary value\n",
    "#Sparse Categorical Crossentropy = Classifies based on an integer value with more than 2 possible values\n",
    "def Simplemodel(input_shape):\n",
    "\n",
    "  inputs = Input((input_shape))\n",
    "\n",
    "  conv_1= Convolution(inputs,32)\n",
    "\n",
    "  maxp_1 = MaxPooling2D(pool_size = (2,2)) (conv_1)\n",
    "\n",
    "  conv_2 = Convolution(maxp_1,64)\n",
    "\n",
    "  maxp_2 = MaxPooling2D(pool_size = (2, 2)) (conv_2)\n",
    "\n",
    "  conv_3 = Convolution(maxp_2,64)\n",
    "\n",
    "  maxp_3 = MaxPooling2D(pool_size = (2, 2)) (conv_3)\n",
    "\n",
    "  conv_4 = Convolution(maxp_3,64)\n",
    "\n",
    "  maxp_4 = MaxPooling2D(pool_size = (2, 2)) (conv_4)\n",
    "\n",
    "  conv_5 = Convolution(maxp_4,64)\n",
    "\n",
    "  flatten= Flatten() (conv_5)\n",
    "\n",
    "  dense_1= Dense(64,activation='relu')(flatten)\n",
    "\n",
    "  dense_2= Dense(64,activation='relu')(flatten)\n",
    "\n",
    "  dense_3= Dense(64,activation='relu')(flatten)\n",
    "\n",
    "  output_1= Dense(1,activation=\"sigmoid\",name='sex_out')(dense_1)\n",
    "\n",
    "  output_2= Dense(5,activation=\"sigmoid\",name='race_out')(dense_2)\n",
    "    \n",
    "  output_3= Dense(6,activation=\"sigmoid\",name='age_out')(dense_3)\n",
    "\n",
    "  model = Model(inputs=[inputs], outputs=[output_1,output_2,output_3])\n",
    "\n",
    "  model.compile(loss=[\"binary_crossentropy\",\"sparse_categorical_crossentropy\", \"sparse_categorical_crossentropy\"], optimizer=\"Adam\",\n",
    "\n",
    "  metrics=[\"accuracy\"])\n",
    "\n",
    "  return model"
   ]
  },
  {
   "cell_type": "code",
   "execution_count": 29,
   "id": "6c905dac-9bd1-460d-9c1b-8a54411e1e30",
   "metadata": {},
   "outputs": [
    {
     "name": "stdout",
     "output_type": "stream",
     "text": [
      "Model: \"model\"\n",
      "__________________________________________________________________________________________________\n",
      " Layer (type)                   Output Shape         Param #     Connected to                     \n",
      "==================================================================================================\n",
      " input_7 (InputLayer)           [(None, 200, 200, 3  0           []                               \n",
      "                                )]                                                                \n",
      "                                                                                                  \n",
      " conv2d_21 (Conv2D)             (None, 200, 200, 32  896         ['input_7[0][0]']                \n",
      "                                )                                                                 \n",
      "                                                                                                  \n",
      " max_pooling2d_16 (MaxPooling2D  (None, 100, 100, 32  0          ['conv2d_21[0][0]']              \n",
      " )                              )                                                                 \n",
      "                                                                                                  \n",
      " conv2d_22 (Conv2D)             (None, 100, 100, 64  18496       ['max_pooling2d_16[0][0]']       \n",
      "                                )                                                                 \n",
      "                                                                                                  \n",
      " max_pooling2d_17 (MaxPooling2D  (None, 50, 50, 64)  0           ['conv2d_22[0][0]']              \n",
      " )                                                                                                \n",
      "                                                                                                  \n",
      " conv2d_23 (Conv2D)             (None, 50, 50, 64)   36928       ['max_pooling2d_17[0][0]']       \n",
      "                                                                                                  \n",
      " max_pooling2d_18 (MaxPooling2D  (None, 25, 25, 64)  0           ['conv2d_23[0][0]']              \n",
      " )                                                                                                \n",
      "                                                                                                  \n",
      " conv2d_24 (Conv2D)             (None, 25, 25, 64)   36928       ['max_pooling2d_18[0][0]']       \n",
      "                                                                                                  \n",
      " max_pooling2d_19 (MaxPooling2D  (None, 12, 12, 64)  0           ['conv2d_24[0][0]']              \n",
      " )                                                                                                \n",
      "                                                                                                  \n",
      " conv2d_25 (Conv2D)             (None, 12, 12, 64)   36928       ['max_pooling2d_19[0][0]']       \n",
      "                                                                                                  \n",
      " flatten_2 (Flatten)            (None, 9216)         0           ['conv2d_25[0][0]']              \n",
      "                                                                                                  \n",
      " dense_3 (Dense)                (None, 64)           589888      ['flatten_2[0][0]']              \n",
      "                                                                                                  \n",
      " dense_4 (Dense)                (None, 64)           589888      ['flatten_2[0][0]']              \n",
      "                                                                                                  \n",
      " dense_5 (Dense)                (None, 64)           589888      ['flatten_2[0][0]']              \n",
      "                                                                                                  \n",
      " sex_out (Dense)                (None, 1)            65          ['dense_3[0][0]']                \n",
      "                                                                                                  \n",
      " race_out (Dense)               (None, 5)            325         ['dense_4[0][0]']                \n",
      "                                                                                                  \n",
      " age_out (Dense)                (None, 6)            390         ['dense_5[0][0]']                \n",
      "                                                                                                  \n",
      "==================================================================================================\n",
      "Total params: 1,900,620\n",
      "Trainable params: 1,900,620\n",
      "Non-trainable params: 0\n",
      "__________________________________________________________________________________________________\n"
     ]
    }
   ],
   "source": [
    "#Creating the model\n",
    "Modelsimple=Simplemodel((200,200,3))\n",
    "Modelsimple.summary()"
   ]
  },
  {
   "cell_type": "code",
   "execution_count": 267,
   "id": "b78ce142-3720-4215-aea7-dec3b296359f",
   "metadata": {},
   "outputs": [
    {
     "name": "stdout",
     "output_type": "stream",
     "text": [
      "Epoch 1/10\n",
      "497/497 [==============================] - 927s 2s/step - loss: 4.6951 - sex_out_loss: 0.7956 - race_out_loss: 1.8392 - age_out_loss: 1.8076 - sex_out_accuracy: 0.7753 - race_out_accuracy: 0.5735 - age_out_accuracy: 0.5869 - val_loss: 2.6125 - val_sex_out_loss: 0.4147 - val_race_out_loss: 1.0210 - val_age_out_loss: 0.9625 - val_sex_out_accuracy: 0.8222 - val_race_out_accuracy: 0.6609 - val_age_out_accuracy: 0.6451\n",
      "Epoch 2/10\n",
      "497/497 [==============================] - 902s 2s/step - loss: 2.3334 - sex_out_loss: 0.3497 - race_out_loss: 0.9111 - age_out_loss: 0.8773 - sex_out_accuracy: 0.8432 - race_out_accuracy: 0.6779 - age_out_accuracy: 0.6564 - val_loss: 2.2343 - val_sex_out_loss: 0.3454 - val_race_out_loss: 0.8628 - val_age_out_loss: 0.8453 - val_sex_out_accuracy: 0.8429 - val_race_out_accuracy: 0.7037 - val_age_out_accuracy: 0.6840\n",
      "Epoch 3/10\n",
      "497/497 [==============================] - 893s 2s/step - loss: 2.1574 - sex_out_loss: 0.3296 - race_out_loss: 0.8393 - age_out_loss: 0.8191 - sex_out_accuracy: 0.8513 - race_out_accuracy: 0.7069 - age_out_accuracy: 0.6752 - val_loss: 2.1770 - val_sex_out_loss: 0.3513 - val_race_out_loss: 0.8464 - val_age_out_loss: 0.8197 - val_sex_out_accuracy: 0.8420 - val_race_out_accuracy: 0.7215 - val_age_out_accuracy: 0.6919\n",
      "Epoch 4/10\n",
      "497/497 [==============================] - 904s 2s/step - loss: 2.0322 - sex_out_loss: 0.3060 - race_out_loss: 0.7954 - age_out_loss: 0.7789 - sex_out_accuracy: 0.8634 - race_out_accuracy: 0.7220 - age_out_accuracy: 0.6863 - val_loss: 2.1590 - val_sex_out_loss: 0.3334 - val_race_out_loss: 0.8679 - val_age_out_loss: 0.8129 - val_sex_out_accuracy: 0.8529 - val_race_out_accuracy: 0.7082 - val_age_out_accuracy: 0.7023\n",
      "Epoch 5/10\n",
      "497/497 [==============================] - 874s 2s/step - loss: 1.9575 - sex_out_loss: 0.2958 - race_out_loss: 0.7673 - age_out_loss: 0.7543 - sex_out_accuracy: 0.8682 - race_out_accuracy: 0.7299 - age_out_accuracy: 0.6987 - val_loss: 2.0065 - val_sex_out_loss: 0.3140 - val_race_out_loss: 0.8028 - val_age_out_loss: 0.7556 - val_sex_out_accuracy: 0.8626 - val_race_out_accuracy: 0.7313 - val_age_out_accuracy: 0.7167\n",
      "Epoch 6/10\n",
      "497/497 [==============================] - 865s 2s/step - loss: 1.8567 - sex_out_loss: 0.2731 - race_out_loss: 0.7281 - age_out_loss: 0.7259 - sex_out_accuracy: 0.8824 - race_out_accuracy: 0.7420 - age_out_accuracy: 0.7089 - val_loss: 1.9494 - val_sex_out_loss: 0.3043 - val_race_out_loss: 0.7926 - val_age_out_loss: 0.7269 - val_sex_out_accuracy: 0.8654 - val_race_out_accuracy: 0.7408 - val_age_out_accuracy: 0.7218\n",
      "Epoch 7/10\n",
      "497/497 [==============================] - 837s 2s/step - loss: 1.7953 - sex_out_loss: 0.2599 - race_out_loss: 0.7094 - age_out_loss: 0.7042 - sex_out_accuracy: 0.8852 - race_out_accuracy: 0.7486 - age_out_accuracy: 0.7136 - val_loss: 1.9173 - val_sex_out_loss: 0.2863 - val_race_out_loss: 0.8006 - val_age_out_loss: 0.7127 - val_sex_out_accuracy: 0.8719 - val_race_out_accuracy: 0.7199 - val_age_out_accuracy: 0.7289\n",
      "Epoch 8/10\n",
      "497/497 [==============================] - 826s 2s/step - loss: 1.7271 - sex_out_loss: 0.2466 - race_out_loss: 0.6847 - age_out_loss: 0.6812 - sex_out_accuracy: 0.8912 - race_out_accuracy: 0.7568 - age_out_accuracy: 0.7188 - val_loss: 1.8624 - val_sex_out_loss: 0.2976 - val_race_out_loss: 0.7488 - val_age_out_loss: 0.7043 - val_sex_out_accuracy: 0.8699 - val_race_out_accuracy: 0.7377 - val_age_out_accuracy: 0.7239\n",
      "Epoch 9/10\n",
      "497/497 [==============================] - 840s 2s/step - loss: 1.6709 - sex_out_loss: 0.2453 - race_out_loss: 0.6572 - age_out_loss: 0.6597 - sex_out_accuracy: 0.8929 - race_out_accuracy: 0.7676 - age_out_accuracy: 0.7290 - val_loss: 2.0140 - val_sex_out_loss: 0.3258 - val_race_out_loss: 0.8217 - val_age_out_loss: 0.7613 - val_sex_out_accuracy: 0.8681 - val_race_out_accuracy: 0.7404 - val_age_out_accuracy: 0.7180\n",
      "Epoch 10/10\n",
      "497/497 [==============================] - 817s 2s/step - loss: 1.6156 - sex_out_loss: 0.2256 - race_out_loss: 0.6395 - age_out_loss: 0.6479 - sex_out_accuracy: 0.9038 - race_out_accuracy: 0.7745 - age_out_accuracy: 0.7323 - val_loss: 1.8385 - val_sex_out_loss: 0.2817 - val_race_out_loss: 0.7599 - val_age_out_loss: 0.6983 - val_sex_out_accuracy: 0.8783 - val_race_out_accuracy: 0.7400 - val_age_out_accuracy: 0.7258\n"
     ]
    }
   ],
   "source": [
    "#Training the model\n",
    "SimpleHistory=Modelsimple.fit(X_train,y_train_conv,validation_data=(X_test,y_test_conv),epochs=10)"
   ]
  },
  {
   "cell_type": "code",
   "execution_count": 268,
   "id": "66044dab-92a4-4559-8e3b-6bb8d5873373",
   "metadata": {},
   "outputs": [
    {
     "data": {
      "image/png": "[encoded data removed]",
      "text/plain": [
       "<Figure size 432x288 with 1 Axes>"
      ]
     },
     "metadata": {
      "needs_background": "light"
     },
     "output_type": "display_data"
    }
   ],
   "source": [
    "#Sex accuracy metric\n",
    "plt.plot(SimpleHistory.history['sex_out_accuracy'])\n",
    "plt.plot(SimpleHistory.history['val_sex_out_accuracy'])\n",
    "plt.title('sex model accuracy')\n",
    "plt.ylabel('accuracy')\n",
    "plt.xlabel('epoch')\n",
    "plt.legend(['train', 'val'], loc='upper left')\n",
    "plt.show()"
   ]
  },
  {
   "cell_type": "code",
   "execution_count": 269,
   "id": "5c279a43-0032-4188-a464-c4fb65c170b7",
   "metadata": {},
   "outputs": [
    {
     "data": {
      "image/png": "[encoded data removed]",
      "text/plain": [
       "<Figure size 432x288 with 1 Axes>"
      ]
     },
     "metadata": {
      "needs_background": "light"
     },
     "output_type": "display_data"
    }
   ],
   "source": [
    "#Race accuracy metric\n",
    "plt.plot(SimpleHistory.history['race_out_accuracy'])\n",
    "plt.plot(SimpleHistory.history['val_race_out_accuracy'])\n",
    "plt.title('race model accuracy')\n",
    "plt.ylabel('accuracy')\n",
    "plt.xlabel('epoch')\n",
    "plt.legend(['train', 'val'], loc='upper left')\n",
    "plt.show()"
   ]
  },
  {
   "cell_type": "code",
   "execution_count": 270,
   "id": "ee4e653f-5ef8-417d-b506-a7fa0743e736",
   "metadata": {},
   "outputs": [
    {
     "data": {
      "image/png": "[encoded data removed]",
      "text/plain": [
       "<Figure size 432x288 with 1 Axes>"
      ]
     },
     "metadata": {
      "needs_background": "light"
     },
     "output_type": "display_data"
    }
   ],
   "source": [
    "#Age accuracy metric\n",
    "plt.plot(SimpleHistory.history['age_out_accuracy'])\n",
    "plt.plot(SimpleHistory.history['val_age_out_accuracy'])\n",
    "plt.title('age model accuracy')\n",
    "plt.ylabel('accuracy')\n",
    "plt.xlabel('epoch')\n",
    "plt.legend(['train', 'val'], loc='upper left')\n",
    "plt.show()"
   ]
  },
  {
   "cell_type": "code",
   "execution_count": 271,
   "id": "6fe15e86-82ba-4373-989d-b50808f66f64",
   "metadata": {},
   "outputs": [],
   "source": [
    "#Confusion Matrices\n",
    "ypred = Modelsimple.predict(X_test)"
   ]
  },
  {
   "cell_type": "code",
   "execution_count": 295,
   "id": "1fe2ce07-c171-4146-92d6-4a8ed9330f5e",
   "metadata": {},
   "outputs": [],
   "source": [
    "y_gender_classes = np.round(ypred[0])\n",
    "y_race_classes = np.argmax(ypred[1],axis=-1)\n",
    "y_age_classes = np.argmax(ypred[2],axis=-1)"
   ]
  },
  {
   "cell_type": "code",
   "execution_count": 296,
   "id": "cfd8098f-23ea-4910-98d7-3d6a0e5fea8b",
   "metadata": {},
   "outputs": [
    {
     "name": "stdout",
     "output_type": "stream",
     "text": [
      "gender confusion matrix\n",
      "[[3459  625]\n",
      " [ 327 3412]]\n"
     ]
    }
   ],
   "source": [
    "print('gender confusion matrix')\n",
    "print(confusion_matrix(y_test_conv[0],y_gender_classes))"
   ]
  },
  {
   "cell_type": "code",
   "execution_count": 292,
   "id": "7347b57e-de8a-457f-bbe1-419cedb3fc04",
   "metadata": {},
   "outputs": [
    {
     "name": "stdout",
     "output_type": "stream",
     "text": [
      "race confusion matrix\n",
      "[[2922  105   47  170   27]\n",
      " [ 154 1231   12   99    8]\n",
      " [ 271   52  725   41   36]\n",
      " [ 326  123    9  864   10]\n",
      " [ 344   57   17  126   47]]\n"
     ]
    }
   ],
   "source": [
    "print('race confusion matrix')\n",
    "print(confusion_matrix(y_test_conv[1],y_race_classes))"
   ]
  },
  {
   "cell_type": "code",
   "execution_count": 293,
   "id": "8b6a4eef-4a3e-47c8-aa4c-8c180ae4b796",
   "metadata": {},
   "outputs": [
    {
     "name": "stdout",
     "output_type": "stream",
     "text": [
      "age confusion matrix\n",
      "[[1176  317   16    8    4    0]\n",
      " [  83 3596  242   14    3    0]\n",
      " [  20  714  660   81    3    0]\n",
      " [  17  125  300  199   31    0]\n",
      " [   9   15   49   84   47    0]\n",
      " [   1    0    1    4    4    0]]\n"
     ]
    }
   ],
   "source": [
    "print('age confusion matrix')\n",
    "print(confusion_matrix(y_test_conv[2],y_age_classes))"
   ]
  },
  {
   "cell_type": "code",
   "execution_count": null,
   "id": "f13e35fa-b687-40f6-819b-5734bfd91de0",
   "metadata": {},
   "outputs": [],
   "source": []
  }
 ],
 "metadata": {
  "kernelspec": {
   "display_name": "Python 3 (ipykernel)",
   "language": "python",
   "name": "python3"
  },
  "language_info": {
   "codemirror_mode": {
    "name": "ipython",
    "version": 3
   },
   "file_extension": ".py",
   "mimetype": "text/x-python",
   "name": "python",
   "nbconvert_exporter": "python",
   "pygments_lexer": "ipython3",
   "version": "3.10.2"
  }
 },
 "nbformat": 4,
 "nbformat_minor": 5
}
