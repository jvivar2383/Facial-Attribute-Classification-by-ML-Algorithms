{
 "cells": [
  {
   "cell_type": "code",
   "execution_count": 152,
   "id": "d19acb14-47fd-4c5b-9312-f3a76089797f",
   "metadata": {},
   "outputs": [],
   "source": [
    "import pandas as pd\n",
    "import numpy as np\n",
    "from skimage import io\n",
    "from PIL import Image\n",
    "from os import listdir\n",
    "from os.path import isfile, join\n",
    "import tensorflow as tf\n",
    "from tensorflow.keras import datasets, layers, models\n",
    "import matplotlib.pyplot as plt\n",
    "from sklearn.model_selection import train_test_split\n",
    "from sklearn.metrics import confusion_matrix\n",
    "import keras\n",
    "from tensorflow.keras.optimizers import SGD\n",
    "from tensorflow.keras.layers import Input,Activation,Add"
   ]
  },
  {
   "cell_type": "code",
   "execution_count": 62,
   "id": "69d37c56-46d2-4f5b-89df-7efca31ad23a",
   "metadata": {},
   "outputs": [],
   "source": [
    "mypath = './Data/CroppedImages/'\n",
    "filenames = np.array([f for f in listdir(mypath) if isfile(join(mypath, f))])\n",
    "splitcolumns = [x.split('_')[0:3] + [mypath + x] for x in filenames if x.count('_') == 3]\n",
    "filecolumns = ['age','gender','race','file']\n",
    "filedf = pd.DataFrame(data = splitcolumns, columns = filecolumns)"
   ]
  },
  {
   "cell_type": "code",
   "execution_count": 63,
   "id": "dbc54caa-a43d-4465-946e-b6338f5aba50",
   "metadata": {},
   "outputs": [
    {
     "data": {
      "text/html": [
       "<div>\n",
       "<style scoped>\n",
       "    .dataframe tbody tr th:only-of-type {\n",
       "        vertical-align: middle;\n",
       "    }\n",
       "\n",
       "    .dataframe tbody tr th {\n",
       "        vertical-align: top;\n",
       "    }\n",
       "\n",
       "    .dataframe thead th {\n",
       "        text-align: right;\n",
       "    }\n",
       "</style>\n",
       "<table border=\"1\" class=\"dataframe\">\n",
       "  <thead>\n",
       "    <tr style=\"text-align: right;\">\n",
       "      <th></th>\n",
       "      <th>age</th>\n",
       "      <th>gender</th>\n",
       "      <th>race</th>\n",
       "      <th>file</th>\n",
       "    </tr>\n",
       "  </thead>\n",
       "  <tbody>\n",
       "    <tr>\n",
       "      <th>0</th>\n",
       "      <td>100</td>\n",
       "      <td>0</td>\n",
       "      <td>0</td>\n",
       "      <td>./Data/CroppedImages/100_0_0_20170112213500903...</td>\n",
       "    </tr>\n",
       "    <tr>\n",
       "      <th>1</th>\n",
       "      <td>100</td>\n",
       "      <td>0</td>\n",
       "      <td>0</td>\n",
       "      <td>./Data/CroppedImages/100_0_0_20170112215240346...</td>\n",
       "    </tr>\n",
       "    <tr>\n",
       "      <th>2</th>\n",
       "      <td>100</td>\n",
       "      <td>1</td>\n",
       "      <td>0</td>\n",
       "      <td>./Data/CroppedImages/100_1_0_20170110183726390...</td>\n",
       "    </tr>\n",
       "    <tr>\n",
       "      <th>3</th>\n",
       "      <td>100</td>\n",
       "      <td>1</td>\n",
       "      <td>0</td>\n",
       "      <td>./Data/CroppedImages/100_1_0_20170112213001988...</td>\n",
       "    </tr>\n",
       "    <tr>\n",
       "      <th>4</th>\n",
       "      <td>100</td>\n",
       "      <td>1</td>\n",
       "      <td>0</td>\n",
       "      <td>./Data/CroppedImages/100_1_0_20170112213303693...</td>\n",
       "    </tr>\n",
       "  </tbody>\n",
       "</table>\n",
       "</div>"
      ],
      "text/plain": [
       "   age gender race                                               file\n",
       "0  100      0    0  ./Data/CroppedImages/100_0_0_20170112213500903...\n",
       "1  100      0    0  ./Data/CroppedImages/100_0_0_20170112215240346...\n",
       "2  100      1    0  ./Data/CroppedImages/100_1_0_20170110183726390...\n",
       "3  100      1    0  ./Data/CroppedImages/100_1_0_20170112213001988...\n",
       "4  100      1    0  ./Data/CroppedImages/100_1_0_20170112213303693..."
      ]
     },
     "execution_count": 63,
     "metadata": {},
     "output_type": "execute_result"
    }
   ],
   "source": [
    "filedf.head()"
   ]
  },
  {
   "cell_type": "code",
   "execution_count": 64,
   "id": "96aeb851-e83e-4513-9e6d-c19a6f51ddd1",
   "metadata": {},
   "outputs": [
    {
     "name": "stdout",
     "output_type": "stream",
     "text": [
      "<class 'pandas.core.frame.DataFrame'>\n",
      "RangeIndex: 23705 entries, 0 to 23704\n",
      "Data columns (total 4 columns):\n",
      " #   Column  Non-Null Count  Dtype \n",
      "---  ------  --------------  ----- \n",
      " 0   age     23705 non-null  object\n",
      " 1   gender  23705 non-null  object\n",
      " 2   race    23705 non-null  object\n",
      " 3   file    23705 non-null  object\n",
      "dtypes: object(4)\n",
      "memory usage: 740.9+ KB\n"
     ]
    }
   ],
   "source": [
    "filedf.info()\n"
   ]
  },
  {
   "cell_type": "code",
   "execution_count": 65,
   "id": "461e73f0-290f-48d7-9750-0e1a68306edc",
   "metadata": {},
   "outputs": [
    {
     "data": {
      "text/html": [
       "<div>\n",
       "<style scoped>\n",
       "    .dataframe tbody tr th:only-of-type {\n",
       "        vertical-align: middle;\n",
       "    }\n",
       "\n",
       "    .dataframe tbody tr th {\n",
       "        vertical-align: top;\n",
       "    }\n",
       "\n",
       "    .dataframe thead th {\n",
       "        text-align: right;\n",
       "    }\n",
       "</style>\n",
       "<table border=\"1\" class=\"dataframe\">\n",
       "  <thead>\n",
       "    <tr style=\"text-align: right;\">\n",
       "      <th></th>\n",
       "      <th>age</th>\n",
       "      <th>gender</th>\n",
       "      <th>race</th>\n",
       "      <th>file</th>\n",
       "    </tr>\n",
       "  </thead>\n",
       "  <tbody>\n",
       "    <tr>\n",
       "      <th>count</th>\n",
       "      <td>23705</td>\n",
       "      <td>23705</td>\n",
       "      <td>23705</td>\n",
       "      <td>23705</td>\n",
       "    </tr>\n",
       "    <tr>\n",
       "      <th>unique</th>\n",
       "      <td>104</td>\n",
       "      <td>2</td>\n",
       "      <td>5</td>\n",
       "      <td>23705</td>\n",
       "    </tr>\n",
       "    <tr>\n",
       "      <th>top</th>\n",
       "      <td>26</td>\n",
       "      <td>0</td>\n",
       "      <td>0</td>\n",
       "      <td>./Data/CroppedImages/100_0_0_20170112213500903...</td>\n",
       "    </tr>\n",
       "    <tr>\n",
       "      <th>freq</th>\n",
       "      <td>2197</td>\n",
       "      <td>12391</td>\n",
       "      <td>10078</td>\n",
       "      <td>1</td>\n",
       "    </tr>\n",
       "  </tbody>\n",
       "</table>\n",
       "</div>"
      ],
      "text/plain": [
       "          age gender   race                                               file\n",
       "count   23705  23705  23705                                              23705\n",
       "unique    104      2      5                                              23705\n",
       "top        26      0      0  ./Data/CroppedImages/100_0_0_20170112213500903...\n",
       "freq     2197  12391  10078                                                  1"
      ]
     },
     "execution_count": 65,
     "metadata": {},
     "output_type": "execute_result"
    }
   ],
   "source": [
    "filedf.describe()"
   ]
  },
  {
   "cell_type": "code",
   "execution_count": 66,
   "id": "98edb2b3-ba6b-4afd-9bc5-a089f4f53bc1",
   "metadata": {},
   "outputs": [],
   "source": [
    "filedf['agebracket'] = filedf['age'].astype(int).floordiv(20)"
   ]
  },
  {
   "cell_type": "code",
   "execution_count": 73,
   "id": "9d40ee42-38ab-445d-aad5-d5a5155ec180",
   "metadata": {},
   "outputs": [
    {
     "data": {
      "text/plain": [
       "array([5, 0, 1, 2, 3, 4])"
      ]
     },
     "execution_count": 73,
     "metadata": {},
     "output_type": "execute_result"
    }
   ],
   "source": [
    "filedf['agebracket'].unique()"
   ]
  },
  {
   "cell_type": "code",
   "execution_count": 74,
   "id": "522475a3-73c0-4acd-9c78-7ba3bf329d94",
   "metadata": {},
   "outputs": [],
   "source": [
    "images = []\n",
    "labels = []"
   ]
  },
  {
   "cell_type": "code",
   "execution_count": 75,
   "id": "48397024-9b11-42c3-8816-2cd5bac90a49",
   "metadata": {},
   "outputs": [
    {
     "name": "stdout",
     "output_type": "stream",
     "text": [
      "CPU times: total: 10.4 s\n",
      "Wall time: 14.4 s\n"
     ]
    }
   ],
   "source": [
    "%%time\n",
    "for index, row in filedf.iterrows():\n",
    "    img = np.array(Image.open(row[3]))\n",
    "    flat_img = img\n",
    "    images.append(img)\n",
    "    labels.append([row[1],row[2],row[4]])"
   ]
  },
  {
   "cell_type": "code",
   "execution_count": 76,
   "id": "37c60625-e105-420b-8aeb-2a4cb2b356a6",
   "metadata": {},
   "outputs": [
    {
     "data": {
      "text/html": [
       "<div>\n",
       "<style scoped>\n",
       "    .dataframe tbody tr th:only-of-type {\n",
       "        vertical-align: middle;\n",
       "    }\n",
       "\n",
       "    .dataframe tbody tr th {\n",
       "        vertical-align: top;\n",
       "    }\n",
       "\n",
       "    .dataframe thead th {\n",
       "        text-align: right;\n",
       "    }\n",
       "</style>\n",
       "<table border=\"1\" class=\"dataframe\">\n",
       "  <thead>\n",
       "    <tr style=\"text-align: right;\">\n",
       "      <th></th>\n",
       "      <th>age</th>\n",
       "      <th>gender</th>\n",
       "      <th>race</th>\n",
       "      <th>file</th>\n",
       "      <th>agebracket</th>\n",
       "    </tr>\n",
       "  </thead>\n",
       "  <tbody>\n",
       "    <tr>\n",
       "      <th>0</th>\n",
       "      <td>100</td>\n",
       "      <td>0</td>\n",
       "      <td>0</td>\n",
       "      <td>./Data/CroppedImages/100_0_0_20170112213500903...</td>\n",
       "      <td>5</td>\n",
       "    </tr>\n",
       "    <tr>\n",
       "      <th>1</th>\n",
       "      <td>100</td>\n",
       "      <td>0</td>\n",
       "      <td>0</td>\n",
       "      <td>./Data/CroppedImages/100_0_0_20170112215240346...</td>\n",
       "      <td>5</td>\n",
       "    </tr>\n",
       "    <tr>\n",
       "      <th>2</th>\n",
       "      <td>100</td>\n",
       "      <td>1</td>\n",
       "      <td>0</td>\n",
       "      <td>./Data/CroppedImages/100_1_0_20170110183726390...</td>\n",
       "      <td>5</td>\n",
       "    </tr>\n",
       "    <tr>\n",
       "      <th>3</th>\n",
       "      <td>100</td>\n",
       "      <td>1</td>\n",
       "      <td>0</td>\n",
       "      <td>./Data/CroppedImages/100_1_0_20170112213001988...</td>\n",
       "      <td>5</td>\n",
       "    </tr>\n",
       "    <tr>\n",
       "      <th>4</th>\n",
       "      <td>100</td>\n",
       "      <td>1</td>\n",
       "      <td>0</td>\n",
       "      <td>./Data/CroppedImages/100_1_0_20170112213303693...</td>\n",
       "      <td>5</td>\n",
       "    </tr>\n",
       "  </tbody>\n",
       "</table>\n",
       "</div>"
      ],
      "text/plain": [
       "   age gender race                                               file  \\\n",
       "0  100      0    0  ./Data/CroppedImages/100_0_0_20170112213500903...   \n",
       "1  100      0    0  ./Data/CroppedImages/100_0_0_20170112215240346...   \n",
       "2  100      1    0  ./Data/CroppedImages/100_1_0_20170110183726390...   \n",
       "3  100      1    0  ./Data/CroppedImages/100_1_0_20170112213001988...   \n",
       "4  100      1    0  ./Data/CroppedImages/100_1_0_20170112213303693...   \n",
       "\n",
       "   agebracket  \n",
       "0           5  \n",
       "1           5  \n",
       "2           5  \n",
       "3           5  \n",
       "4           5  "
      ]
     },
     "execution_count": 76,
     "metadata": {},
     "output_type": "execute_result"
    }
   ],
   "source": [
    "filedf.head()"
   ]
  },
  {
   "cell_type": "code",
   "execution_count": 77,
   "id": "7ab4e094-3961-435f-bd4d-00d657dffd8a",
   "metadata": {},
   "outputs": [],
   "source": [
    "npimages = np.array(images)\n",
    "nplabels = np.array(labels).astype(int)"
   ]
  },
  {
   "cell_type": "code",
   "execution_count": 79,
   "id": "e8a6fe13-3401-47e5-821b-19405ae5f4c0",
   "metadata": {},
   "outputs": [],
   "source": [
    "X = npimages\n",
    "y = nplabels\n",
    "ygender = nplabels[:,0]"
   ]
  },
  {
   "cell_type": "code",
   "execution_count": 80,
   "id": "ceb455eb-a280-4f44-a051-bcd105d971fd",
   "metadata": {},
   "outputs": [],
   "source": [
    "yage = nplabels[:,2]"
   ]
  },
  {
   "cell_type": "code",
   "execution_count": 103,
   "id": "81cf35ff-20a7-4765-a35b-3babbee2cd1e",
   "metadata": {},
   "outputs": [],
   "source": [
    "yrace = nplabels[:,1]"
   ]
  },
  {
   "cell_type": "code",
   "execution_count": 82,
   "id": "50b7843b-f9e1-41f4-b3eb-3636622b7d8b",
   "metadata": {},
   "outputs": [],
   "source": [
    "input_images = keras.Input(shape=(200, 200, 3), dtype='float32', name='images')"
   ]
  },
  {
   "cell_type": "code",
   "execution_count": 83,
   "id": "c6e2157a-0187-45bb-bff5-0f833f294042",
   "metadata": {},
   "outputs": [],
   "source": [
    "X_gendertrain, X_gendertest, y_gendertrain, y_gendertest = train_test_split(X,ygender,test_size=0.33, random_state=42)"
   ]
  },
  {
   "cell_type": "code",
   "execution_count": 87,
   "id": "2b217411-6231-4186-bdc0-bdfc256c9dc6",
   "metadata": {},
   "outputs": [
    {
     "name": "stdout",
     "output_type": "stream",
     "text": [
      "Model: \"sequential_8\"\n",
      "_________________________________________________________________\n",
      " Layer (type)                Output Shape              Param #   \n",
      "=================================================================\n",
      " conv2d_40 (Conv2D)          (None, 198, 198, 32)      896       \n",
      "                                                                 \n",
      " max_pooling2d_32 (MaxPoolin  (None, 99, 99, 32)       0         \n",
      " g2D)                                                            \n",
      "                                                                 \n",
      " conv2d_41 (Conv2D)          (None, 97, 97, 64)        18496     \n",
      "                                                                 \n",
      " max_pooling2d_33 (MaxPoolin  (None, 48, 48, 64)       0         \n",
      " g2D)                                                            \n",
      "                                                                 \n",
      " conv2d_42 (Conv2D)          (None, 46, 46, 64)        36928     \n",
      "                                                                 \n",
      " max_pooling2d_34 (MaxPoolin  (None, 23, 23, 64)       0         \n",
      " g2D)                                                            \n",
      "                                                                 \n",
      " conv2d_43 (Conv2D)          (None, 21, 21, 64)        36928     \n",
      "                                                                 \n",
      " max_pooling2d_35 (MaxPoolin  (None, 10, 10, 64)       0         \n",
      " g2D)                                                            \n",
      "                                                                 \n",
      " conv2d_44 (Conv2D)          (None, 8, 8, 64)          36928     \n",
      "                                                                 \n",
      " flatten_8 (Flatten)         (None, 4096)              0         \n",
      "                                                                 \n",
      " dense_16 (Dense)            (None, 64)                262208    \n",
      "                                                                 \n",
      " dense_17 (Dense)            (None, 2)                 130       \n",
      "                                                                 \n",
      "=================================================================\n",
      "Total params: 392,514\n",
      "Trainable params: 392,514\n",
      "Non-trainable params: 0\n",
      "_________________________________________________________________\n"
     ]
    }
   ],
   "source": [
    "modelgender = models.Sequential()\n",
    "modelgender.add(layers.Conv2D(32, (3, 3), activation='relu', input_shape=(200, 200, 3)))\n",
    "modelgender.add(layers.MaxPooling2D((2, 2)))\n",
    "modelgender.add(layers.Conv2D(64, (3, 3), activation='relu'))\n",
    "modelgender.add(layers.MaxPooling2D((2, 2)))\n",
    "modelgender.add(layers.Conv2D(64, (3, 3), activation='relu'))\n",
    "modelgender.add(layers.MaxPooling2D((2, 2)))\n",
    "modelgender.add(layers.Conv2D(64, (3, 3), activation='relu'))\n",
    "modelgender.add(layers.MaxPooling2D((2, 2)))\n",
    "modelgender.add(layers.Conv2D(64, (3, 3), activation='relu'))\n",
    "modelgender.add(layers.Flatten())\n",
    "modelgender.add(layers.Dense(64, activation='relu'))\n",
    "modelgender.add(layers.Dense(2))\n",
    "modelgender.summary()\n"
   ]
  },
  {
   "cell_type": "code",
   "execution_count": 91,
   "id": "7a78ff55-6dd7-49a6-bf95-b46200c6edaa",
   "metadata": {},
   "outputs": [],
   "source": [
    "modelgender.compile(optimizer='adam',\n",
    "              loss=tf.keras.losses.SparseCategoricalCrossentropy(from_logits=True),\n",
    "              metrics=['accuracy'])"
   ]
  },
  {
   "cell_type": "code",
   "execution_count": 93,
   "id": "7a0d5fd9-2cde-417a-98da-55a7464373e9",
   "metadata": {},
   "outputs": [
    {
     "name": "stdout",
     "output_type": "stream",
     "text": [
      "Epoch 1/5\n",
      "497/497 [==============================] - 649s 1s/step - loss: 0.4448 - accuracy: 0.7923 - val_loss: 0.3665 - val_accuracy: 0.8354\n",
      "Epoch 2/5\n",
      "497/497 [==============================] - 574s 1s/step - loss: 0.3405 - accuracy: 0.8518 - val_loss: 0.3370 - val_accuracy: 0.8453\n",
      "Epoch 3/5\n",
      "497/497 [==============================] - 604s 1s/step - loss: 0.3155 - accuracy: 0.8598 - val_loss: 0.3434 - val_accuracy: 0.8417\n",
      "Epoch 4/5\n",
      "497/497 [==============================] - 597s 1s/step - loss: 0.2881 - accuracy: 0.8760 - val_loss: 0.3131 - val_accuracy: 0.8594\n",
      "Epoch 5/5\n",
      "497/497 [==============================] - 579s 1s/step - loss: 0.2714 - accuracy: 0.8819 - val_loss: 0.3077 - val_accuracy: 0.8605\n"
     ]
    }
   ],
   "source": [
    "historygender = modelgender.fit(X_gendertrain, y_gendertrain, epochs=5, \n",
    "                    validation_data=(X_gendertest, y_gendertest),\n",
    "                                )"
   ]
  },
  {
   "cell_type": "code",
   "execution_count": 94,
   "id": "bc47f52e-2c5a-4282-aa11-f675610b1786",
   "metadata": {},
   "outputs": [
    {
     "data": {
      "text/plain": [
       "array([[3434,  441],\n",
       "       [ 650, 3298]], dtype=int64)"
      ]
     },
     "execution_count": 94,
     "metadata": {},
     "output_type": "execute_result"
    }
   ],
   "source": [
    "y_genderpred = modelgender.predict(X_gendertest)\n",
    "y_genderclasses = y_genderpred.argmax(axis=-1)\n",
    "confusion_matrix(y_genderclasses, y_gendertest)"
   ]
  },
  {
   "cell_type": "code",
   "execution_count": 95,
   "id": "c1858ceb-a473-4c05-abc1-5566627ee5e9",
   "metadata": {},
   "outputs": [
    {
     "data": {
      "image/png": "[encoded data removed]",
      "text/plain": [
       "<Figure size 432x288 with 1 Axes>"
      ]
     },
     "metadata": {
      "needs_background": "light"
     },
     "output_type": "display_data"
    }
   ],
   "source": [
    "plt.plot(historygender.history['accuracy'])\n",
    "plt.plot(historygender.history['val_accuracy'])\n",
    "plt.title('gender model accuracy')\n",
    "plt.ylabel('accuracy')\n",
    "plt.xlabel('epoch')\n",
    "plt.legend(['train', 'val'], loc='upper left')\n",
    "plt.show()"
   ]
  },
  {
   "cell_type": "code",
   "execution_count": 96,
   "id": "cec00093-5052-4c1d-ba1f-51eabc3a95a8",
   "metadata": {},
   "outputs": [],
   "source": [
    "X_racetrain, X_racetest, y_racetrain, y_racetest = train_test_split(X,yrace,test_size=0.33, random_state=42)"
   ]
  },
  {
   "cell_type": "code",
   "execution_count": 134,
   "id": "bd3af739-7334-4fb7-8018-f707d9cdcc8d",
   "metadata": {},
   "outputs": [
    {
     "name": "stdout",
     "output_type": "stream",
     "text": [
      "Model: \"sequential_16\"\n",
      "_________________________________________________________________\n",
      " Layer (type)                Output Shape              Param #   \n",
      "=================================================================\n",
      " conv2d_80 (Conv2D)          (None, 198, 198, 32)      896       \n",
      "                                                                 \n",
      " max_pooling2d_64 (MaxPoolin  (None, 99, 99, 32)       0         \n",
      " g2D)                                                            \n",
      "                                                                 \n",
      " conv2d_81 (Conv2D)          (None, 97, 97, 64)        18496     \n",
      "                                                                 \n",
      " max_pooling2d_65 (MaxPoolin  (None, 48, 48, 64)       0         \n",
      " g2D)                                                            \n",
      "                                                                 \n",
      " conv2d_82 (Conv2D)          (None, 46, 46, 64)        36928     \n",
      "                                                                 \n",
      " max_pooling2d_66 (MaxPoolin  (None, 23, 23, 64)       0         \n",
      " g2D)                                                            \n",
      "                                                                 \n",
      " conv2d_83 (Conv2D)          (None, 21, 21, 64)        36928     \n",
      "                                                                 \n",
      " max_pooling2d_67 (MaxPoolin  (None, 10, 10, 64)       0         \n",
      " g2D)                                                            \n",
      "                                                                 \n",
      " conv2d_84 (Conv2D)          (None, 8, 8, 64)          36928     \n",
      "                                                                 \n",
      " flatten_16 (Flatten)        (None, 4096)              0         \n",
      "                                                                 \n",
      " dense_32 (Dense)            (None, 64)                262208    \n",
      "                                                                 \n",
      " dense_33 (Dense)            (None, 5)                 325       \n",
      "                                                                 \n",
      "=================================================================\n",
      "Total params: 392,709\n",
      "Trainable params: 392,709\n",
      "Non-trainable params: 0\n",
      "_________________________________________________________________\n"
     ]
    }
   ],
   "source": [
    "modelrace = models.Sequential()\n",
    "modelrace.add(layers.Conv2D(32, (3, 3), activation='relu', input_shape=(200, 200, 3)))\n",
    "modelrace.add(layers.MaxPooling2D((2, 2)))\n",
    "modelrace.add(layers.Conv2D(64, (3, 3), activation='relu'))\n",
    "modelrace.add(layers.MaxPooling2D((2, 2)))\n",
    "modelrace.add(layers.Conv2D(64, (3, 3), activation='relu'))\n",
    "modelrace.add(layers.MaxPooling2D((2, 2)))\n",
    "modelrace.add(layers.Conv2D(64, (3, 3), activation='relu'))\n",
    "modelrace.add(layers.MaxPooling2D((2, 2)))\n",
    "modelrace.add(layers.Conv2D(64, (3, 3), activation='relu'))\n",
    "modelrace.add(layers.Flatten())\n",
    "modelrace.add(layers.Dense(64, activation='relu'))\n",
    "modelrace.add(layers.Dense(5))\n",
    "modelrace.summary()"
   ]
  },
  {
   "cell_type": "code",
   "execution_count": 135,
   "id": "97cfb8d9-c8cd-4974-a7a3-260d19189a37",
   "metadata": {},
   "outputs": [],
   "source": [
    "modelrace.compile(optimizer='adam',\n",
    "              loss=tf.keras.losses.SparseCategoricalCrossentropy(from_logits=True),\n",
    "              metrics=['accuracy'])"
   ]
  },
  {
   "cell_type": "code",
   "execution_count": 136,
   "id": "27d7d7b4-d284-46cf-898f-fdc8ea5b8f42",
   "metadata": {},
   "outputs": [
    {
     "name": "stdout",
     "output_type": "stream",
     "text": [
      "Epoch 1/5\n",
      "497/497 [==============================] - 519s 1s/step - loss: 1.2075 - accuracy: 0.6006 - val_loss: 1.0003 - val_accuracy: 0.6670\n",
      "Epoch 2/5\n",
      "497/497 [==============================] - 490s 985ms/step - loss: 0.8372 - accuracy: 0.7063 - val_loss: 0.8660 - val_accuracy: 0.6969\n",
      "Epoch 3/5\n",
      "497/497 [==============================] - 483s 973ms/step - loss: 0.7599 - accuracy: 0.7358 - val_loss: 0.7768 - val_accuracy: 0.7261\n",
      "Epoch 4/5\n",
      "497/497 [==============================] - 468s 942ms/step - loss: 0.7054 - accuracy: 0.7558 - val_loss: 0.7546 - val_accuracy: 0.7351\n",
      "Epoch 5/5\n",
      "497/497 [==============================] - 467s 939ms/step - loss: 0.6770 - accuracy: 0.7625 - val_loss: 0.7624 - val_accuracy: 0.7321\n"
     ]
    }
   ],
   "source": [
    "historyrace = modelrace.fit(X_racetrain, y_racetrain, epochs=5, \n",
    "                    validation_data=(X_racetest, y_racetest))"
   ]
  },
  {
   "cell_type": "code",
   "execution_count": 137,
   "id": "e484b192-3642-4ad7-9f59-53c21057b0de",
   "metadata": {},
   "outputs": [
    {
     "data": {
      "text/plain": [
       "array([[2620,  100,   83,  205,  235],\n",
       "       [  73, 1211,   35,  158,   49],\n",
       "       [ 321,   96,  978,  103,  115],\n",
       "       [ 195,   82,   21,  836,  110],\n",
       "       [  62,   15,    8,   30,   82]], dtype=int64)"
      ]
     },
     "execution_count": 137,
     "metadata": {},
     "output_type": "execute_result"
    }
   ],
   "source": [
    "y_racepred = modelrace.predict(X_racetest)\n",
    "y_raceclasses = y_racepred.argmax(axis=-1)\n",
    "confusion_matrix(y_raceclasses, y_racetest)"
   ]
  },
  {
   "cell_type": "code",
   "execution_count": 138,
   "id": "9daa2b54-830c-4528-ba43-a6378f08e8db",
   "metadata": {},
   "outputs": [
    {
     "data": {
      "image/png": "[encoded data removed]",
      "text/plain": [
       "<Figure size 432x288 with 1 Axes>"
      ]
     },
     "metadata": {
      "needs_background": "light"
     },
     "output_type": "display_data"
    }
   ],
   "source": [
    "plt.plot(historyrace.history['accuracy'])\n",
    "plt.plot(historyrace.history['val_accuracy'])\n",
    "plt.title('race model accuracy')\n",
    "plt.ylabel('accuracy')\n",
    "plt.xlabel('epoch')\n",
    "plt.legend(['train', 'val'], loc='upper left')\n",
    "plt.show()"
   ]
  },
  {
   "cell_type": "code",
   "execution_count": 139,
   "id": "b8a5d359-363c-491c-b707-eee51e3a3522",
   "metadata": {},
   "outputs": [],
   "source": [
    "X_agetrain, X_agetest, y_agetrain, y_agetest = train_test_split(X,yage,test_size=0.33, random_state=42)"
   ]
  },
  {
   "cell_type": "code",
   "execution_count": 140,
   "id": "0f9daa63-eae0-4e2b-86b0-388ac7c432d9",
   "metadata": {},
   "outputs": [
    {
     "name": "stdout",
     "output_type": "stream",
     "text": [
      "Model: \"sequential_17\"\n",
      "_________________________________________________________________\n",
      " Layer (type)                Output Shape              Param #   \n",
      "=================================================================\n",
      " conv2d_85 (Conv2D)          (None, 198, 198, 32)      896       \n",
      "                                                                 \n",
      " max_pooling2d_68 (MaxPoolin  (None, 99, 99, 32)       0         \n",
      " g2D)                                                            \n",
      "                                                                 \n",
      " conv2d_86 (Conv2D)          (None, 97, 97, 64)        18496     \n",
      "                                                                 \n",
      " max_pooling2d_69 (MaxPoolin  (None, 48, 48, 64)       0         \n",
      " g2D)                                                            \n",
      "                                                                 \n",
      " conv2d_87 (Conv2D)          (None, 46, 46, 64)        36928     \n",
      "                                                                 \n",
      " max_pooling2d_70 (MaxPoolin  (None, 23, 23, 64)       0         \n",
      " g2D)                                                            \n",
      "                                                                 \n",
      " conv2d_88 (Conv2D)          (None, 21, 21, 64)        36928     \n",
      "                                                                 \n",
      " max_pooling2d_71 (MaxPoolin  (None, 10, 10, 64)       0         \n",
      " g2D)                                                            \n",
      "                                                                 \n",
      " conv2d_89 (Conv2D)          (None, 8, 8, 64)          36928     \n",
      "                                                                 \n",
      " flatten_17 (Flatten)        (None, 4096)              0         \n",
      "                                                                 \n",
      " dense_34 (Dense)            (None, 64)                262208    \n",
      "                                                                 \n",
      " dense_35 (Dense)            (None, 6)                 390       \n",
      "                                                                 \n",
      "=================================================================\n",
      "Total params: 392,774\n",
      "Trainable params: 392,774\n",
      "Non-trainable params: 0\n",
      "_________________________________________________________________\n"
     ]
    }
   ],
   "source": [
    "modelage = models.Sequential()\n",
    "modelage.add(layers.Conv2D(32, (3, 3), activation='relu', input_shape=(200, 200, 3)))\n",
    "modelage.add(layers.MaxPooling2D((2, 2)))\n",
    "modelage.add(layers.Conv2D(64, (3, 3), activation='relu'))\n",
    "modelage.add(layers.MaxPooling2D((2, 2)))\n",
    "modelage.add(layers.Conv2D(64, (3, 3), activation='relu'))\n",
    "modelage.add(layers.MaxPooling2D((2, 2)))\n",
    "modelage.add(layers.Conv2D(64, (3, 3), activation='relu'))\n",
    "modelage.add(layers.MaxPooling2D((2, 2)))\n",
    "modelage.add(layers.Conv2D(64, (3, 3), activation='relu'))\n",
    "modelage.add(layers.Flatten())\n",
    "modelage.add(layers.Dense(64, activation='relu'))\n",
    "modelage.add(layers.Dense(6))\n",
    "modelage.summary()"
   ]
  },
  {
   "cell_type": "code",
   "execution_count": 141,
   "id": "94e0b245-c503-47ed-bce3-67bdb01f91e5",
   "metadata": {},
   "outputs": [],
   "source": [
    "modelage.compile(optimizer='adam',\n",
    "              loss=tf.keras.losses.SparseCategoricalCrossentropy(from_logits=True),\n",
    "              metrics=['accuracy'])"
   ]
  },
  {
   "cell_type": "code",
   "execution_count": 142,
   "id": "8c14eb0b-9e28-40c9-951d-b8b9631157a4",
   "metadata": {},
   "outputs": [
    {
     "name": "stdout",
     "output_type": "stream",
     "text": [
      "Epoch 1/5\n",
      "497/497 [==============================] - 462s 929ms/step - loss: 1.1267 - accuracy: 0.5955 - val_loss: 0.8938 - val_accuracy: 0.6532\n",
      "Epoch 2/5\n",
      "497/497 [==============================] - 446s 897ms/step - loss: 0.8780 - accuracy: 0.6577 - val_loss: 0.7954 - val_accuracy: 0.6896\n",
      "Epoch 3/5\n",
      "497/497 [==============================] - 470s 947ms/step - loss: 0.7898 - accuracy: 0.6898 - val_loss: 0.7846 - val_accuracy: 0.6914\n",
      "Epoch 4/5\n",
      "497/497 [==============================] - 477s 960ms/step - loss: 0.7477 - accuracy: 0.6999 - val_loss: 0.7579 - val_accuracy: 0.6960\n",
      "Epoch 5/5\n",
      "497/497 [==============================] - 443s 891ms/step - loss: 0.7137 - accuracy: 0.7136 - val_loss: 0.7027 - val_accuracy: 0.7230\n"
     ]
    }
   ],
   "source": [
    "historyage = modelage.fit(X_agetrain, y_agetrain, epochs=5, \n",
    "                    validation_data=(X_agetest, y_agetest))"
   ]
  },
  {
   "cell_type": "code",
   "execution_count": 144,
   "id": "0f60f7bd-f671-4e92-b164-c67a1ca8783c",
   "metadata": {},
   "outputs": [
    {
     "data": {
      "text/plain": [
       "array([[1127,   55,   15,    6,    0,    0],\n",
       "       [ 360, 3563,  682,  116,    9,    0],\n",
       "       [  15,  253,  563,  161,   17,    0],\n",
       "       [  15,   67,  217,  383,  158,    9],\n",
       "       [   4,    0,    1,    6,   20,    1],\n",
       "       [   0,    0,    0,    0,    0,    0]], dtype=int64)"
      ]
     },
     "execution_count": 144,
     "metadata": {},
     "output_type": "execute_result"
    }
   ],
   "source": [
    "y_agepred = modelage.predict(X_agetest)\n",
    "y_ageclasses = y_agepred.argmax(axis=-1)\n",
    "confusion_matrix(y_ageclasses, y_agetest)"
   ]
  },
  {
   "cell_type": "code",
   "execution_count": 145,
   "id": "f7c52112-9b6c-4406-9f24-d863307badf7",
   "metadata": {},
   "outputs": [
    {
     "data": {
      "image/png": "[encoded data removed]",
      "text/plain": [
       "<Figure size 432x288 with 1 Axes>"
      ]
     },
     "metadata": {
      "needs_background": "light"
     },
     "output_type": "display_data"
    }
   ],
   "source": [
    "plt.plot(historyage.history['accuracy'])\n",
    "plt.plot(historyage.history['val_accuracy'])\n",
    "plt.title('race model accuracy')\n",
    "plt.ylabel('accuracy')\n",
    "plt.xlabel('epoch')\n",
    "plt.legend(['train', 'val'], loc='upper left')\n",
    "plt.show()"
   ]
  },
  {
   "cell_type": "code",
   "execution_count": 248,
   "id": "9a75f190-a4d6-4af4-a6bb-a227be5ecd3a",
   "metadata": {},
   "outputs": [
    {
     "data": {
      "text/plain": [
       "(23705, 3, 1)"
      ]
     },
     "execution_count": 248,
     "metadata": {},
     "output_type": "execute_result"
    }
   ],
   "source": [
    "ymodel = np.array([[[x[0]],[x[1]],[x[2]]] for x in y])\n",
    "ymodel.shape"
   ]
  },
  {
   "cell_type": "code",
   "execution_count": 254,
   "id": "789dadd6-0dd4-4562-9727-173adf9ec696",
   "metadata": {},
   "outputs": [],
   "source": [
    "y_train2=[y_train[:,0],y_train[:,1],y_train[:,2]]\n",
    "y_test2=[y_test[:,0],y_test[:,1],y_test[:,2]]"
   ]
  },
  {
   "cell_type": "code",
   "execution_count": 257,
   "id": "aac0801d-fdbc-412d-b3fb-87e5765acec8",
   "metadata": {},
   "outputs": [
    {
     "name": "stdout",
     "output_type": "stream",
     "text": [
      "[0 1]\n",
      "[0 1 2 3 4]\n",
      "[0 1 2 3 4 5]\n"
     ]
    }
   ],
   "source": [
    "print(np.unique(y_train2[0]))\n",
    "print(np.unique(y_train2[1]))\n",
    "print(np.unique(y_train2[2]))"
   ]
  },
  {
   "cell_type": "code",
   "execution_count": 265,
   "id": "d5987a5d-e101-4dce-8338-200325658e24",
   "metadata": {},
   "outputs": [],
   "source": [
    "\n",
    "\n",
    "def SimpleConvolution(input_tensor,filters):\n",
    "\n",
    "    x = layers.Conv2D(filters=filters,kernel_size=(3, 3),padding = 'same')(input_tensor)\n",
    "\n",
    "    x= Activation('relu')(x)\n",
    "\n",
    "    return x\n",
    "\n",
    "def Simplemodel(input_shape):\n",
    "\n",
    "  inputs = Input((input_shape))\n",
    "\n",
    "  conv_1= Convolution(inputs,32)\n",
    "\n",
    "  maxp_1 = MaxPooling2D(pool_size = (2,2)) (conv_1)\n",
    "\n",
    "  conv_2 = Convolution(maxp_1,64)\n",
    "\n",
    "  maxp_2 = MaxPooling2D(pool_size = (2, 2)) (conv_2)\n",
    "\n",
    "  conv_3 = Convolution(maxp_2,64)\n",
    "\n",
    "  maxp_3 = MaxPooling2D(pool_size = (2, 2)) (conv_3)\n",
    "\n",
    "  conv_4 = Convolution(maxp_3,64)\n",
    "\n",
    "  maxp_4 = MaxPooling2D(pool_size = (2, 2)) (conv_4)\n",
    "\n",
    "  conv_5 = Convolution(maxp_4,64)\n",
    "\n",
    "  flatten= Flatten() (conv_5)\n",
    "\n",
    "  dense_1= Dense(64,activation='relu')(flatten)\n",
    "\n",
    "  dense_2= Dense(64,activation='relu')(flatten)\n",
    "\n",
    "  dense_3= Dense(64,activation='relu')(flatten)\n",
    "\n",
    "  output_1= Dense(1,activation=\"sigmoid\",name='sex_out')(dense_1)\n",
    "\n",
    "  output_2= Dense(5,activation=\"sigmoid\",name='race_out')(dense_2)\n",
    "    \n",
    "  output_3= Dense(6,activation=\"sigmoid\",name='age_out')(dense_3)\n",
    "\n",
    "  model = Model(inputs=[inputs], outputs=[output_1,output_2,output_3])\n",
    "\n",
    "  model.compile(loss=[\"binary_crossentropy\",\"sparse_categorical_crossentropy\", \"sparse_categorical_crossentropy\"], optimizer=\"Adam\",\n",
    "\n",
    "  metrics=[\"accuracy\"])\n",
    "\n",
    "  return model"
   ]
  },
  {
   "cell_type": "code",
   "execution_count": 266,
   "id": "6c905dac-9bd1-460d-9c1b-8a54411e1e30",
   "metadata": {},
   "outputs": [
    {
     "name": "stdout",
     "output_type": "stream",
     "text": [
      "Model: \"model_19\"\n",
      "__________________________________________________________________________________________________\n",
      " Layer (type)                   Output Shape         Param #     Connected to                     \n",
      "==================================================================================================\n",
      " input_17 (InputLayer)          [(None, 200, 200, 3  0           []                               \n",
      "                                )]                                                                \n",
      "                                                                                                  \n",
      " conv2d_154 (Conv2D)            (None, 200, 200, 32  896         ['input_17[0][0]']               \n",
      "                                )                                                                 \n",
      "                                                                                                  \n",
      " dropout_103 (Dropout)          (None, 200, 200, 32  0           ['conv2d_154[0][0]']             \n",
      "                                )                                                                 \n",
      "                                                                                                  \n",
      " activation_64 (Activation)     (None, 200, 200, 32  0           ['dropout_103[0][0]']            \n",
      "                                )                                                                 \n",
      "                                                                                                  \n",
      " max_pooling2d_136 (MaxPooling2  (None, 100, 100, 32  0          ['activation_64[0][0]']          \n",
      " D)                             )                                                                 \n",
      "                                                                                                  \n",
      " conv2d_155 (Conv2D)            (None, 100, 100, 64  18496       ['max_pooling2d_136[0][0]']      \n",
      "                                )                                                                 \n",
      "                                                                                                  \n",
      " dropout_104 (Dropout)          (None, 100, 100, 64  0           ['conv2d_155[0][0]']             \n",
      "                                )                                                                 \n",
      "                                                                                                  \n",
      " activation_65 (Activation)     (None, 100, 100, 64  0           ['dropout_104[0][0]']            \n",
      "                                )                                                                 \n",
      "                                                                                                  \n",
      " max_pooling2d_137 (MaxPooling2  (None, 50, 50, 64)  0           ['activation_65[0][0]']          \n",
      " D)                                                                                               \n",
      "                                                                                                  \n",
      " conv2d_156 (Conv2D)            (None, 50, 50, 128)  73856       ['max_pooling2d_137[0][0]']      \n",
      "                                                                                                  \n",
      " dropout_105 (Dropout)          (None, 50, 50, 128)  0           ['conv2d_156[0][0]']             \n",
      "                                                                                                  \n",
      " activation_66 (Activation)     (None, 50, 50, 128)  0           ['dropout_105[0][0]']            \n",
      "                                                                                                  \n",
      " max_pooling2d_138 (MaxPooling2  (None, 25, 25, 128)  0          ['activation_66[0][0]']          \n",
      " D)                                                                                               \n",
      "                                                                                                  \n",
      " conv2d_157 (Conv2D)            (None, 25, 25, 256)  295168      ['max_pooling2d_138[0][0]']      \n",
      "                                                                                                  \n",
      " dropout_106 (Dropout)          (None, 25, 25, 256)  0           ['conv2d_157[0][0]']             \n",
      "                                                                                                  \n",
      " activation_67 (Activation)     (None, 25, 25, 256)  0           ['dropout_106[0][0]']            \n",
      "                                                                                                  \n",
      " max_pooling2d_139 (MaxPooling2  (None, 12, 12, 256)  0          ['activation_67[0][0]']          \n",
      " D)                                                                                               \n",
      "                                                                                                  \n",
      " flatten_40 (Flatten)           (None, 36864)        0           ['max_pooling2d_139[0][0]']      \n",
      "                                                                                                  \n",
      " dense_80 (Dense)               (None, 64)           2359360     ['flatten_40[0][0]']             \n",
      "                                                                                                  \n",
      " dense_81 (Dense)               (None, 64)           2359360     ['flatten_40[0][0]']             \n",
      "                                                                                                  \n",
      " dense_82 (Dense)               (None, 64)           2359360     ['flatten_40[0][0]']             \n",
      "                                                                                                  \n",
      " dropout_107 (Dropout)          (None, 64)           0           ['dense_80[0][0]']               \n",
      "                                                                                                  \n",
      " dropout_108 (Dropout)          (None, 64)           0           ['dense_81[0][0]']               \n",
      "                                                                                                  \n",
      " dropout_109 (Dropout)          (None, 64)           0           ['dense_82[0][0]']               \n",
      "                                                                                                  \n",
      " sex_out (Dense)                (None, 1)            65          ['dropout_107[0][0]']            \n",
      "                                                                                                  \n",
      " race_out (Dense)               (None, 5)            325         ['dropout_108[0][0]']            \n",
      "                                                                                                  \n",
      " age_out (Dense)                (None, 6)            390         ['dropout_109[0][0]']            \n",
      "                                                                                                  \n",
      "==================================================================================================\n",
      "Total params: 7,467,276\n",
      "Trainable params: 7,467,276\n",
      "Non-trainable params: 0\n",
      "__________________________________________________________________________________________________\n"
     ]
    }
   ],
   "source": [
    "Modelsimple=model((200,200,3))\n",
    "Modelsimple.summary()"
   ]
  },
  {
   "cell_type": "code",
   "execution_count": 267,
   "id": "b78ce142-3720-4215-aea7-dec3b296359f",
   "metadata": {},
   "outputs": [
    {
     "name": "stdout",
     "output_type": "stream",
     "text": [
      "Epoch 1/10\n",
      "497/497 [==============================] - 927s 2s/step - loss: 4.6951 - sex_out_loss: 0.7956 - race_out_loss: 1.8392 - age_out_loss: 1.8076 - sex_out_accuracy: 0.7753 - race_out_accuracy: 0.5735 - age_out_accuracy: 0.5869 - val_loss: 2.6125 - val_sex_out_loss: 0.4147 - val_race_out_loss: 1.0210 - val_age_out_loss: 0.9625 - val_sex_out_accuracy: 0.8222 - val_race_out_accuracy: 0.6609 - val_age_out_accuracy: 0.6451\n",
      "Epoch 2/10\n",
      "497/497 [==============================] - 902s 2s/step - loss: 2.3334 - sex_out_loss: 0.3497 - race_out_loss: 0.9111 - age_out_loss: 0.8773 - sex_out_accuracy: 0.8432 - race_out_accuracy: 0.6779 - age_out_accuracy: 0.6564 - val_loss: 2.2343 - val_sex_out_loss: 0.3454 - val_race_out_loss: 0.8628 - val_age_out_loss: 0.8453 - val_sex_out_accuracy: 0.8429 - val_race_out_accuracy: 0.7037 - val_age_out_accuracy: 0.6840\n",
      "Epoch 3/10\n",
      "497/497 [==============================] - 893s 2s/step - loss: 2.1574 - sex_out_loss: 0.3296 - race_out_loss: 0.8393 - age_out_loss: 0.8191 - sex_out_accuracy: 0.8513 - race_out_accuracy: 0.7069 - age_out_accuracy: 0.6752 - val_loss: 2.1770 - val_sex_out_loss: 0.3513 - val_race_out_loss: 0.8464 - val_age_out_loss: 0.8197 - val_sex_out_accuracy: 0.8420 - val_race_out_accuracy: 0.7215 - val_age_out_accuracy: 0.6919\n",
      "Epoch 4/10\n",
      "497/497 [==============================] - 904s 2s/step - loss: 2.0322 - sex_out_loss: 0.3060 - race_out_loss: 0.7954 - age_out_loss: 0.7789 - sex_out_accuracy: 0.8634 - race_out_accuracy: 0.7220 - age_out_accuracy: 0.6863 - val_loss: 2.1590 - val_sex_out_loss: 0.3334 - val_race_out_loss: 0.8679 - val_age_out_loss: 0.8129 - val_sex_out_accuracy: 0.8529 - val_race_out_accuracy: 0.7082 - val_age_out_accuracy: 0.7023\n",
      "Epoch 5/10\n",
      "497/497 [==============================] - 874s 2s/step - loss: 1.9575 - sex_out_loss: 0.2958 - race_out_loss: 0.7673 - age_out_loss: 0.7543 - sex_out_accuracy: 0.8682 - race_out_accuracy: 0.7299 - age_out_accuracy: 0.6987 - val_loss: 2.0065 - val_sex_out_loss: 0.3140 - val_race_out_loss: 0.8028 - val_age_out_loss: 0.7556 - val_sex_out_accuracy: 0.8626 - val_race_out_accuracy: 0.7313 - val_age_out_accuracy: 0.7167\n",
      "Epoch 6/10\n",
      "497/497 [==============================] - 865s 2s/step - loss: 1.8567 - sex_out_loss: 0.2731 - race_out_loss: 0.7281 - age_out_loss: 0.7259 - sex_out_accuracy: 0.8824 - race_out_accuracy: 0.7420 - age_out_accuracy: 0.7089 - val_loss: 1.9494 - val_sex_out_loss: 0.3043 - val_race_out_loss: 0.7926 - val_age_out_loss: 0.7269 - val_sex_out_accuracy: 0.8654 - val_race_out_accuracy: 0.7408 - val_age_out_accuracy: 0.7218\n",
      "Epoch 7/10\n",
      "497/497 [==============================] - 837s 2s/step - loss: 1.7953 - sex_out_loss: 0.2599 - race_out_loss: 0.7094 - age_out_loss: 0.7042 - sex_out_accuracy: 0.8852 - race_out_accuracy: 0.7486 - age_out_accuracy: 0.7136 - val_loss: 1.9173 - val_sex_out_loss: 0.2863 - val_race_out_loss: 0.8006 - val_age_out_loss: 0.7127 - val_sex_out_accuracy: 0.8719 - val_race_out_accuracy: 0.7199 - val_age_out_accuracy: 0.7289\n",
      "Epoch 8/10\n",
      "497/497 [==============================] - 826s 2s/step - loss: 1.7271 - sex_out_loss: 0.2466 - race_out_loss: 0.6847 - age_out_loss: 0.6812 - sex_out_accuracy: 0.8912 - race_out_accuracy: 0.7568 - age_out_accuracy: 0.7188 - val_loss: 1.8624 - val_sex_out_loss: 0.2976 - val_race_out_loss: 0.7488 - val_age_out_loss: 0.7043 - val_sex_out_accuracy: 0.8699 - val_race_out_accuracy: 0.7377 - val_age_out_accuracy: 0.7239\n",
      "Epoch 9/10\n",
      "497/497 [==============================] - 840s 2s/step - loss: 1.6709 - sex_out_loss: 0.2453 - race_out_loss: 0.6572 - age_out_loss: 0.6597 - sex_out_accuracy: 0.8929 - race_out_accuracy: 0.7676 - age_out_accuracy: 0.7290 - val_loss: 2.0140 - val_sex_out_loss: 0.3258 - val_race_out_loss: 0.8217 - val_age_out_loss: 0.7613 - val_sex_out_accuracy: 0.8681 - val_race_out_accuracy: 0.7404 - val_age_out_accuracy: 0.7180\n",
      "Epoch 10/10\n",
      "497/497 [==============================] - 817s 2s/step - loss: 1.6156 - sex_out_loss: 0.2256 - race_out_loss: 0.6395 - age_out_loss: 0.6479 - sex_out_accuracy: 0.9038 - race_out_accuracy: 0.7745 - age_out_accuracy: 0.7323 - val_loss: 1.8385 - val_sex_out_loss: 0.2817 - val_race_out_loss: 0.7599 - val_age_out_loss: 0.6983 - val_sex_out_accuracy: 0.8783 - val_race_out_accuracy: 0.7400 - val_age_out_accuracy: 0.7258\n"
     ]
    }
   ],
   "source": [
    "SimpleHistory=Modelsimple.fit(X_train,y_train_conv,validation_data=(X_test,y_test_conv),epochs=10)"
   ]
  },
  {
   "cell_type": "code",
   "execution_count": 268,
   "id": "66044dab-92a4-4559-8e3b-6bb8d5873373",
   "metadata": {},
   "outputs": [
    {
     "data": {
      "image/png": "[encoded data removed]",
      "text/plain": [
       "<Figure size 432x288 with 1 Axes>"
      ]
     },
     "metadata": {
      "needs_background": "light"
     },
     "output_type": "display_data"
    }
   ],
   "source": [
    "plt.plot(SimpleHistory.history['sex_out_accuracy'])\n",
    "plt.plot(SimpleHistory.history['val_sex_out_accuracy'])\n",
    "plt.title('sex model accuracy')\n",
    "plt.ylabel('accuracy')\n",
    "plt.xlabel('epoch')\n",
    "plt.legend(['train', 'val'], loc='upper left')\n",
    "plt.show()"
   ]
  },
  {
   "cell_type": "code",
   "execution_count": 269,
   "id": "5c279a43-0032-4188-a464-c4fb65c170b7",
   "metadata": {},
   "outputs": [
    {
     "data": {
      "image/png": "[encoded data removed]",
      "text/plain": [
       "<Figure size 432x288 with 1 Axes>"
      ]
     },
     "metadata": {
      "needs_background": "light"
     },
     "output_type": "display_data"
    }
   ],
   "source": [
    "plt.plot(SimpleHistory.history['race_out_accuracy'])\n",
    "plt.plot(SimpleHistory.history['val_race_out_accuracy'])\n",
    "plt.title('race model accuracy')\n",
    "plt.ylabel('accuracy')\n",
    "plt.xlabel('epoch')\n",
    "plt.legend(['train', 'val'], loc='upper left')\n",
    "plt.show()"
   ]
  },
  {
   "cell_type": "code",
   "execution_count": 270,
   "id": "ee4e653f-5ef8-417d-b506-a7fa0743e736",
   "metadata": {},
   "outputs": [
    {
     "data": {
      "image/png": "[encoded data removed]",
      "text/plain": [
       "<Figure size 432x288 with 1 Axes>"
      ]
     },
     "metadata": {
      "needs_background": "light"
     },
     "output_type": "display_data"
    }
   ],
   "source": [
    "plt.plot(SimpleHistory.history['age_out_accuracy'])\n",
    "plt.plot(SimpleHistory.history['val_age_out_accuracy'])\n",
    "plt.title('age model accuracy')\n",
    "plt.ylabel('accuracy')\n",
    "plt.xlabel('epoch')\n",
    "plt.legend(['train', 'val'], loc='upper left')\n",
    "plt.show()"
   ]
  },
  {
   "cell_type": "code",
   "execution_count": 271,
   "id": "6fe15e86-82ba-4373-989d-b50808f66f64",
   "metadata": {},
   "outputs": [],
   "source": [
    "ypred = Modelsimple.predict(X_test)"
   ]
  },
  {
   "cell_type": "code",
   "execution_count": 295,
   "id": "1fe2ce07-c171-4146-92d6-4a8ed9330f5e",
   "metadata": {},
   "outputs": [],
   "source": [
    "y_gender_classes = np.round(ypred[0])\n",
    "y_race_classes = np.argmax(ypred[1],axis=-1)\n",
    "y_age_classes = np.argmax(ypred[2],axis=-1)"
   ]
  },
  {
   "cell_type": "code",
   "execution_count": 296,
   "id": "cfd8098f-23ea-4910-98d7-3d6a0e5fea8b",
   "metadata": {},
   "outputs": [
    {
     "name": "stdout",
     "output_type": "stream",
     "text": [
      "gender confusion matrix\n",
      "[[3459  625]\n",
      " [ 327 3412]]\n"
     ]
    }
   ],
   "source": [
    "print('gender confusion matrix')\n",
    "print(confusion_matrix(y_test_conv[0],y_gender_classes))"
   ]
  },
  {
   "cell_type": "code",
   "execution_count": 292,
   "id": "7347b57e-de8a-457f-bbe1-419cedb3fc04",
   "metadata": {},
   "outputs": [
    {
     "name": "stdout",
     "output_type": "stream",
     "text": [
      "race confusion matrix\n",
      "[[2922  105   47  170   27]\n",
      " [ 154 1231   12   99    8]\n",
      " [ 271   52  725   41   36]\n",
      " [ 326  123    9  864   10]\n",
      " [ 344   57   17  126   47]]\n"
     ]
    }
   ],
   "source": [
    "print('race confusion matrix')\n",
    "print(confusion_matrix(y_test_conv[1],y_race_classes))"
   ]
  },
  {
   "cell_type": "code",
   "execution_count": 293,
   "id": "8b6a4eef-4a3e-47c8-aa4c-8c180ae4b796",
   "metadata": {},
   "outputs": [
    {
     "name": "stdout",
     "output_type": "stream",
     "text": [
      "age confusion matrix\n",
      "[[1176  317   16    8    4    0]\n",
      " [  83 3596  242   14    3    0]\n",
      " [  20  714  660   81    3    0]\n",
      " [  17  125  300  199   31    0]\n",
      " [   9   15   49   84   47    0]\n",
      " [   1    0    1    4    4    0]]\n"
     ]
    }
   ],
   "source": [
    "print('age confusion matrix')\n",
    "print(confusion_matrix(y_test_conv[2],y_age_classes))"
   ]
  },
  {
   "cell_type": "code",
   "execution_count": null,
   "id": "f13e35fa-b687-40f6-819b-5734bfd91de0",
   "metadata": {},
   "outputs": [],
   "source": []
  }
 ],
 "metadata": {
  "kernelspec": {
   "display_name": "Python 3 (ipykernel)",
   "language": "python",
   "name": "python3"
  },
  "language_info": {
   "codemirror_mode": {
    "name": "ipython",
    "version": 3
   },
   "file_extension": ".py",
   "mimetype": "text/x-python",
   "name": "python",
   "nbconvert_exporter": "python",
   "pygments_lexer": "ipython3",
   "version": "3.10.2"
  }
 },
 "nbformat": 4,
 "nbformat_minor": 5
}
